{
 "cells": [
  {
   "cell_type": "markdown",
   "id": "bfd8c168-40b4-4eed-bc00-fd6570b7f268",
   "metadata": {},
   "source": [
    "## Tweaking parameters for focal elements\n",
    "This notebook shows an example of loading the instrument and changing parameters for a small nubmer of components to better understand the instrument"
   ]
  },
  {
   "cell_type": "code",
   "execution_count": null,
   "id": "134aaceb-c000-4d0f-bc34-605429e6d449",
   "metadata": {},
   "outputs": [],
   "source": [
    "import mcstasscript as ms\n",
    "import template"
   ]
  },
  {
   "cell_type": "code",
   "execution_count": null,
   "id": "8d52201d-9abe-48f3-8fb9-f7f07f333773",
   "metadata": {},
   "outputs": [],
   "source": [
    "# Set path to instrument code folder and data placement to keep folder clean\n",
    "instrument = template.make(include_event_monitors=False, input_path=\"instrument_code\", output_path=\"data/data\")"
   ]
  },
  {
   "cell_type": "markdown",
   "id": "0e72c25b-26ab-4235-8d09-9519fcb56557",
   "metadata": {},
   "source": [
    "### Remove unnecessary components\n",
    "With this purpose we don't need the chopper or event monitors, so these are removed. There could also have been options in the make function to do this."
   ]
  },
  {
   "cell_type": "code",
   "execution_count": null,
   "id": "8c0a0c29-aa14-4dfe-a105-89d989f110ca",
   "metadata": {},
   "outputs": [],
   "source": [
    "instrument.remove_component(\"chopper\")\n",
    "instrument.remove_component(\"Banana_large\")\n",
    "instrument.remove_component(\"Banana_small\")"
   ]
  },
  {
   "cell_type": "markdown",
   "id": "c66fa6d4-91cc-42fd-9163-280c69329501",
   "metadata": {},
   "source": [
    "## Grab component objects of interesting components\n",
    "Here *get_component* is used to grab some important components and adjust their parameters."
   ]
  },
  {
   "cell_type": "code",
   "execution_count": null,
   "id": "74f2bc5e-4d3a-4b59-b601-46d20a7759d2",
   "metadata": {},
   "outputs": [],
   "source": [
    "feeder = instrument.get_component(\"feeder\")\n",
    "feeder.set_parameters(xwidth=0.08, yheight=0.058, dimensionsAt='\"entrance\"',\n",
    "                      l=4.3, m=4, alpha=3.2,\n",
    "                      linxw=4.5, linyh=2.05,\n",
    "                      loutxw=0.4,\n",
    "                      loutyh=0.3)\n",
    "\n",
    "source = instrument.get_component(\"Source\")\n",
    "source.set_parameters(focus_xw=feeder.xwidth, focus_yh=1.2*feeder.yheight)\n",
    "source.beamline = 8\n",
    "\n",
    "expanding = instrument.get_component(\"expanding\")\n",
    "expanding.set_parameters(m=3.5, alpha=3.2, linxw=1.2, linyh=0.4)\n",
    "expanding.set_parameters(loutxw=expanding.l + expanding.linxw, loutyh=expanding.l + expanding.linyh)\n",
    "\n",
    "focusing = instrument.get_component(\"focusing\")\n",
    "focusing.set_parameters(m=3, alpha=3.2, loutxw=0.65, loutyh=0.65)\n",
    "focusing.set_parameters(linxw=focusing.l + focusing.loutxw, linyh=focusing.l + focusing.loutyh)"
   ]
  },
  {
   "cell_type": "markdown",
   "id": "333067ea-5529-407d-80b5-2c598af115d6",
   "metadata": {},
   "source": [
    "### Run the instrument"
   ]
  },
  {
   "cell_type": "code",
   "execution_count": null,
   "id": "5aa77b4f-0162-44dd-8705-3dd5884a6361",
   "metadata": {},
   "outputs": [],
   "source": [
    "instrument.settings(ncount=5E6, suppress_output=True)\n",
    "data = instrument.backengine()\n",
    "ms.make_sub_plot(data)\n",
    "print(data)"
   ]
  },
  {
   "cell_type": "markdown",
   "id": "fcb71263-5c58-48d5-adb3-c5ee042cec42",
   "metadata": {},
   "source": [
    "### Save data for good runs"
   ]
  },
  {
   "cell_type": "code",
   "execution_count": null,
   "id": "79a3a625-33b1-49bb-bc91-6be3db482c21",
   "metadata": {},
   "outputs": [],
   "source": [
    "ms.make_sub_plot(data)\n",
    "print(data)"
   ]
  },
  {
   "cell_type": "markdown",
   "id": "976f0931-7cbf-46fc-bcba-6c448b47b496",
   "metadata": {},
   "source": [
    "### Deeper investigation into performance"
   ]
  },
  {
   "cell_type": "code",
   "execution_count": null,
   "id": "5815346e-2a2c-454c-b3c5-6bdbe49b7d7e",
   "metadata": {},
   "outputs": [],
   "source": [
    "instrument.show_diagram(True)"
   ]
  },
  {
   "cell_type": "code",
   "execution_count": null,
   "id": "17fb07ee-80b4-43aa-9884-e662422a8327",
   "metadata": {},
   "outputs": [],
   "source": [
    "instrument.show_diagram(True, variable=\"x\", limits=[-0.045, 0.045])"
   ]
  },
  {
   "cell_type": "code",
   "execution_count": null,
   "id": "b1675015-8808-42f3-b656-83a55845c2b7",
   "metadata": {},
   "outputs": [],
   "source": [
    "instrument.show_instrument(format=\"window\")"
   ]
  },
  {
   "cell_type": "markdown",
   "id": "2bdd81a8-48a0-43bd-ae79-77446b7d7411",
   "metadata": {},
   "source": [
    "### Use widget"
   ]
  },
  {
   "cell_type": "code",
   "execution_count": null,
   "id": "6cd0447c-606d-44c2-818c-c0495a453262",
   "metadata": {},
   "outputs": [],
   "source": [
    "feeder = instrument.get_component(\"feeder\")\n",
    "feeder.set_parameters(xwidth=0.08, yheight=0.058, dimensionsAt='\"entrance\"',\n",
    "                      l=4.3, m=4, alpha=3.2,\n",
    "                      linxw=4.5, linyh=2.05,\n",
    "                      loutxw=instrument.add_parameter(\"feeder_focus_out_x\", value=0.4),\n",
    "                      loutyh=0.3)\n",
    "\n",
    "source = instrument.get_component(\"Source\")\n",
    "source.set_parameters(focus_xw=feeder.xwidth, focus_yh=1.2*feeder.yheight)\n",
    "\n",
    "expanding = instrument.get_component(\"expanding\")\n",
    "expanding.set_parameters(m=3.5, alpha=3.2, linxw=1.2, linyh=0.4)\n",
    "expanding.set_parameters(loutxw=expanding.l + expanding.linxw, loutyh=expanding.l + expanding.linyh)\n",
    "\n",
    "focusing = instrument.get_component(\"focusing\")\n",
    "focusing.set_parameters(m=3, alpha=3.2, loutxw=0.65, loutyh=0.65)\n",
    "focusing.set_parameters(linxw=focusing.l + focusing.loutxw, linyh=focusing.l + focusing.loutyh)"
   ]
  },
  {
   "cell_type": "code",
   "execution_count": null,
   "id": "6cf8c2d4-ee75-45d6-b0a4-fdfe41f80367",
   "metadata": {},
   "outputs": [],
   "source": [
    "%matplotlib widget\n",
    "import mcstasscript.jb_interface as ms_widget"
   ]
  },
  {
   "cell_type": "code",
   "execution_count": null,
   "id": "317cc2d4-54d7-48d0-a999-dcedd15ae4d2",
   "metadata": {},
   "outputs": [],
   "source": [
    "ms_widget.show(instrument)"
   ]
  },
  {
   "cell_type": "code",
   "execution_count": null,
   "id": "f9efbf69-0cad-43f9-b28c-c89e219c0e31",
   "metadata": {},
   "outputs": [],
   "source": []
  }
 ],
 "metadata": {
  "kernelspec": {
   "display_name": "Python 3 (ipykernel)",
   "language": "python",
   "name": "python3"
  },
  "language_info": {
   "codemirror_mode": {
    "name": "ipython",
    "version": 3
   },
   "file_extension": ".py",
   "mimetype": "text/x-python",
   "name": "python",
   "nbconvert_exporter": "python",
   "pygments_lexer": "ipython3",
   "version": "3.12.9"
  }
 },
 "nbformat": 4,
 "nbformat_minor": 5
}

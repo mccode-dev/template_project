{
 "cells": [
  {
   "cell_type": "markdown",
   "id": "af08cf08-dfdd-4358-947e-3f08e3ec1dff",
   "metadata": {},
   "source": [
    "# Simple instrument run"
   ]
  },
  {
   "cell_type": "code",
   "execution_count": null,
   "id": "4a606b9c-54e1-4c2a-935a-4ec96c729fae",
   "metadata": {},
   "outputs": [],
   "source": [
    "import mcstasscript as ms\n",
    "import template"
   ]
  },
  {
   "cell_type": "code",
   "execution_count": null,
   "id": "fdadf9f3-996f-49c6-a343-988c9a001608",
   "metadata": {},
   "outputs": [],
   "source": [
    "# Set path to instrument code folder and data placement to keep folder clean\n",
    "instrument = template.make(include_event_monitors=False, input_path=\"instrument_code\", output_path=\"data/data\")"
   ]
  },
  {
   "cell_type": "code",
   "execution_count": null,
   "id": "527a9796-c15a-4ba4-834d-17c5f0b0066a",
   "metadata": {},
   "outputs": [],
   "source": [
    "instrument.settings(suppress_output=True, ncount=1E7, mpi=4)\n",
    "instrument.show_parameters()"
   ]
  },
  {
   "cell_type": "code",
   "execution_count": null,
   "id": "77929ac4-5bb2-4a1d-9878-298d29a88649",
   "metadata": {},
   "outputs": [],
   "source": [
    "instrument.set_parameters(l_min=0.6)\n",
    "\n",
    "# run\n",
    "data = instrument.backengine()\n",
    "\n",
    "# show data overview\n",
    "print(data)"
   ]
  },
  {
   "cell_type": "code",
   "execution_count": null,
   "id": "87eb041e-d930-40d6-a372-bc1df3978282",
   "metadata": {},
   "outputs": [],
   "source": [
    "ms.make_sub_plot(data)"
   ]
  },
  {
   "cell_type": "code",
   "execution_count": null,
   "id": "03db4af8-df8c-4c72-8bf3-00bc49f3a0e1",
   "metadata": {},
   "outputs": [],
   "source": [
    "Banana_large = ms.name_search(\"Banana_large\", data)\n"
   ]
  },
  {
   "cell_type": "code",
   "execution_count": null,
   "id": "90c029fa-5924-431c-8844-7b7de54c4d53",
   "metadata": {},
   "outputs": [],
   "source": [
    "banana_hist = Banana_large.make_2d(\"th\", \"y\")\n",
    "ms.make_sub_plot(banana_hist, log=True)"
   ]
  },
  {
   "cell_type": "code",
   "execution_count": null,
   "id": "9001a9d7-14a4-45f1-86c3-63d56c5615c9",
   "metadata": {},
   "outputs": [],
   "source": []
  }
 ],
 "metadata": {
  "kernelspec": {
   "display_name": "Python 3 (ipykernel)",
   "language": "python",
   "name": "python3"
  },
  "language_info": {
   "codemirror_mode": {
    "name": "ipython",
    "version": 3
   },
   "file_extension": ".py",
   "mimetype": "text/x-python",
   "name": "python",
   "nbconvert_exporter": "python",
   "pygments_lexer": "ipython3",
   "version": "3.12.9"
  }
 },
 "nbformat": 4,
 "nbformat_minor": 5
}

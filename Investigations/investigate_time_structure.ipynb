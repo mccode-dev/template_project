{
 "cells": [
  {
   "cell_type": "markdown",
   "id": "bfd8c168-40b4-4eed-bc00-fd6570b7f268",
   "metadata": {},
   "source": [
    "## Investigate time aspect\n",
    "Here we investigate the time structure throughout the instrument."
   ]
  },
  {
   "cell_type": "code",
   "execution_count": null,
   "id": "134aaceb-c000-4d0f-bc34-605429e6d449",
   "metadata": {},
   "outputs": [],
   "source": [
    "import mcstasscript as ms\n",
    "import template"
   ]
  },
  {
   "cell_type": "code",
   "execution_count": null,
   "id": "8d52201d-9abe-48f3-8fb9-f7f07f333773",
   "metadata": {},
   "outputs": [],
   "source": [
    "# Set path to instrument code folder and data placement to keep folder clean\n",
    "instrument = template.make(include_event_monitors=False, input_path=\"instrument_code\", output_path=\"data/data\")"
   ]
  },
  {
   "cell_type": "markdown",
   "id": "333067ea-5529-407d-80b5-2c598af115d6",
   "metadata": {},
   "source": [
    "### Show diagrams with wavelength and time"
   ]
  },
  {
   "cell_type": "code",
   "execution_count": null,
   "id": "5aa77b4f-0162-44dd-8705-3dd5884a6361",
   "metadata": {},
   "outputs": [],
   "source": [
    "instrument.set_parameters(l_min=0.5, l_max=4, n_pulses=2)\n",
    "instrument.settings(ncount=1E7)\n",
    "\n",
    "instrument.show_diagram(True, variable=\"l\")"
   ]
  },
  {
   "cell_type": "code",
   "execution_count": null,
   "id": "2da9d011-2a9b-4655-b7b3-fe31c6c5feec",
   "metadata": {},
   "outputs": [],
   "source": [
    "instrument.show_diagram(True, variable=\"t\")"
   ]
  },
  {
   "cell_type": "markdown",
   "id": "fcb71263-5c58-48d5-adb3-c5ee042cec42",
   "metadata": {},
   "source": [
    "### Add monitors related to investigation"
   ]
  },
  {
   "cell_type": "code",
   "execution_count": null,
   "id": "d90f3643-acb7-430e-ba4d-0b808b998d96",
   "metadata": {},
   "outputs": [],
   "source": [
    "# Use clean version of instrument\n",
    "instrument = template.make(include_event_monitors=False, input_path=\"instrument_code\", output_path=\"data/data\")\n",
    "\n",
    "def add_tof_monitors(instrument, name, after, tmin=0, tmax=1/6):    \n",
    "    \"\"\" Functions that adds a series of monitors after a given component \"\"\"\n",
    "\n",
    "    if isinstance(after, str):\n",
    "        after = instrument.get_component(after)\n",
    "\n",
    "    # Some components in the instrument have lengths, check if the after component is a guide\n",
    "    if after.component_name in [\"Guide_gravity\", \"Elliptic_guide_gravity\"]:\n",
    "        displacement = after.l + 1E-6\n",
    "    else:\n",
    "        displacement = 0\n",
    "    \n",
    "    lmon = instrument.add_component(name + \"_Lmon\", \"L_monitor\", after=after)\n",
    "    lmon.set_parameters(nL=50, Lmin=\"l_min\", Lmax=\"l_max\", xwidth=0.1, yheight=0.1,\n",
    "                        filename=f'\"{name}_lmon.dat\"', restore_neutron=1)\n",
    "    lmon.set_AT(displacement, RELATIVE=after)\n",
    "\n",
    "    tofmon = instrument.add_component(name + \"_TOFmon\", \"TOF_monitor\", after=lmon)\n",
    "    tofmon.set_parameters(nt=50, tmin=0, tmax=tmax*1E6, xwidth=0.1, yheight=0.1,\n",
    "                        filename=f'\"{name}_TOFmon.dat\"', restore_neutron=1)\n",
    "    tofmon.set_AT(displacement, RELATIVE=after)\n",
    "\n",
    "    toflam = instrument.add_component(name + \"_TOFLammon\", \"TOFLambda_monitor\", after=lmon)\n",
    "    toflam.set_parameters(nt=50, tmin=0, tmax=tmax*1E6, \n",
    "                          nL=50, Lmin=\"l_min\", Lmax=\"l_max\",\n",
    "                          xwidth=0.1, yheight=0.1,\n",
    "                          filename=f'\"{name}_TOFLam.dat\"', restore_neutron=1)\n",
    "    toflam.set_AT(displacement, RELATIVE=after)\n",
    "\n",
    "# Insert monitors at several places\n",
    "add_tof_monitors(instrument, \"after_chopper\", after=\"chopper\", tmax=0.015)\n",
    "add_tof_monitors(instrument, \"after_expanding\", after=\"expanding\", tmax=0.025)\n",
    "add_tof_monitors(instrument, \"after_focusing\", after=\"focusing\", tmax=0.2)"
   ]
  },
  {
   "cell_type": "markdown",
   "id": "2efabea2-80b5-4d11-8500-d16adc3849d2",
   "metadata": {},
   "source": [
    "### Run the instrument and plot data"
   ]
  },
  {
   "cell_type": "code",
   "execution_count": null,
   "id": "6bba85b8-24fb-4060-9adb-46fe4d117b05",
   "metadata": {},
   "outputs": [],
   "source": [
    "instrument.settings(suppress_output=True, ncount=1E7)\n",
    "instrument.set_parameters(n_pulses=1)\n",
    "data = instrument.backengine()"
   ]
  },
  {
   "cell_type": "code",
   "execution_count": null,
   "id": "42216496-d0e3-44c4-a55c-0efe515e83db",
   "metadata": {},
   "outputs": [],
   "source": [
    "ms.make_sub_plot(data)"
   ]
  },
  {
   "cell_type": "markdown",
   "id": "30e53bbc-ad9a-4d17-85f9-eb89119872f9",
   "metadata": {},
   "source": [
    "### Run with larger number of pulses to check overlap"
   ]
  },
  {
   "cell_type": "code",
   "execution_count": null,
   "id": "e95d049c-4ec9-4263-94ed-c10539c588d4",
   "metadata": {},
   "outputs": [],
   "source": [
    "instrument = template.make(include_event_monitors=False, input_path=\"instrument_code\", output_path=\"data/data\")\n",
    "\n",
    "# Insert monitors at several places\n",
    "add_tof_monitors(instrument, \"after_chopper\", after=\"chopper\", tmax=0.015 + 1/14)\n",
    "add_tof_monitors(instrument, \"after_expanding\", after=\"expanding\", tmax=0.025 + 1/14)\n",
    "add_tof_monitors(instrument, \"after_focusing\", after=\"focusing\", tmax=0.2 + 1/14)\n",
    "\n",
    "instrument.settings(suppress_output=True, ncount=1E7)\n",
    "instrument.set_parameters(n_pulses=2)\n",
    "data = instrument.backengine()"
   ]
  },
  {
   "cell_type": "code",
   "execution_count": null,
   "id": "2294bb4f-e2a1-4bf0-84ed-5d05cb9accf6",
   "metadata": {},
   "outputs": [],
   "source": [
    "ms.make_sub_plot(data)"
   ]
  },
  {
   "cell_type": "code",
   "execution_count": null,
   "id": "9fce1c43-80f1-426b-98ab-b233415f4e36",
   "metadata": {},
   "outputs": [],
   "source": []
  }
 ],
 "metadata": {
  "kernelspec": {
   "display_name": "Python 3 (ipykernel)",
   "language": "python",
   "name": "python3"
  },
  "language_info": {
   "codemirror_mode": {
    "name": "ipython",
    "version": 3
   },
   "file_extension": ".py",
   "mimetype": "text/x-python",
   "name": "python",
   "nbconvert_exporter": "python",
   "pygments_lexer": "ipython3",
   "version": "3.12.9"
  }
 },
 "nbformat": 4,
 "nbformat_minor": 5
}

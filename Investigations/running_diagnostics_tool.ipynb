{
 "cells": [
  {
   "cell_type": "markdown",
   "id": "bfd8c168-40b4-4eed-bc00-fd6570b7f268",
   "metadata": {},
   "source": [
    "## Use diagnostics tool\n",
    "This notebook shows using the diagnostic tool to investigate the beam throughout the instrument."
   ]
  },
  {
   "cell_type": "code",
   "execution_count": null,
   "id": "134aaceb-c000-4d0f-bc34-605429e6d449",
   "metadata": {},
   "outputs": [],
   "source": [
    "import mcstasscript as ms\n",
    "import template"
   ]
  },
  {
   "cell_type": "code",
   "execution_count": null,
   "id": "8d52201d-9abe-48f3-8fb9-f7f07f333773",
   "metadata": {},
   "outputs": [],
   "source": [
    "# Set path to instrument code folder and data placement to keep folder clean\n",
    "instrument = template.make(include_event_monitors=False, input_path=\"instrument_code\", output_path=\"data/data\")"
   ]
  },
  {
   "cell_type": "markdown",
   "id": "0e72c25b-26ab-4235-8d09-9519fcb56557",
   "metadata": {},
   "source": [
    "### Remove unnecessary components\n",
    "With this purpose we don't need the event monitors, so these are removed. There could also have been options in the make function to do this."
   ]
  },
  {
   "cell_type": "code",
   "execution_count": null,
   "id": "8c0a0c29-aa14-4dfe-a105-89d989f110ca",
   "metadata": {},
   "outputs": [],
   "source": [
    "instrument.remove_component(\"Banana_large\")\n",
    "instrument.remove_component(\"Banana_small\")"
   ]
  },
  {
   "cell_type": "markdown",
   "id": "c66fa6d4-91cc-42fd-9163-280c69329501",
   "metadata": {},
   "source": [
    "## Get an overview of the instrument"
   ]
  },
  {
   "cell_type": "code",
   "execution_count": null,
   "id": "74f2bc5e-4d3a-4b59-b601-46d20a7759d2",
   "metadata": {},
   "outputs": [],
   "source": [
    "instrument.show_diagram()"
   ]
  },
  {
   "cell_type": "markdown",
   "id": "333067ea-5529-407d-80b5-2c598af115d6",
   "metadata": {},
   "source": [
    "## Set up diagnostic object\n",
    "The diagnostics object is an enriched version of an instrument that can record data from a run at places chosen by the user. After a run, this data can be plotted in arbitrary 1 / 2 dimensional histograms. One can still adjust settings and parameters on a diagnostics object."
   ]
  },
  {
   "cell_type": "code",
   "execution_count": null,
   "id": "5aa77b4f-0162-44dd-8705-3dd5884a6361",
   "metadata": {},
   "outputs": [],
   "source": [
    "diag = ms.Diagnostics(instrument)\n",
    "\n",
    "diag.settings(ncount=1E7, suppress_output=True)\n",
    "diag.show_settings()"
   ]
  },
  {
   "cell_type": "code",
   "execution_count": null,
   "id": "b8856c62-a417-44c6-8efb-1485913615a6",
   "metadata": {},
   "outputs": [],
   "source": [
    "diag.set_parameters(n_pulses=1)\n",
    "diag.show_parameters()"
   ]
  },
  {
   "cell_type": "markdown",
   "id": "26c64edf-9c58-45d1-9c46-3d589b85a153",
   "metadata": {},
   "source": [
    "### Set points\n",
    "Set a list of points along the instrument where information should be recorded. It can be *before* and/or *after* components. Note each have a limited number of rays they will record, as they record data in event mode. This is to avoid taking too much space, but the number of rays can be increased. This also means the absolute intensities will not be correct for the results unless rays set to \"all\". "
   ]
  },
  {
   "cell_type": "code",
   "execution_count": null,
   "id": "8a1389f4-13b9-4c28-a475-de28d2a3ee3b",
   "metadata": {},
   "outputs": [],
   "source": [
    "diag.clear_points()\n",
    "diag.add_point(after=\"feeder\")\n",
    "diag.add_point(after=\"chopper\")\n",
    "diag.add_point(after=\"expanding\")\n",
    "diag.add_point(after=\"guide_3\")\n",
    "diag.add_point(after=\"guide_11\")\n",
    "diag.add_point(after=\"focusing\", rays=\"all\")\n",
    "\n",
    "diag.show_points()"
   ]
  },
  {
   "cell_type": "markdown",
   "id": "01ff5be1-0ffd-4969-88bd-b0806aef57fb",
   "metadata": {},
   "source": [
    "### Run simulation with diagnostics object"
   ]
  },
  {
   "cell_type": "code",
   "execution_count": null,
   "id": "a4f6bfb0-97d9-41d4-a302-1f6b4e6afcac",
   "metadata": {},
   "outputs": [],
   "source": [
    "diag.run()\n",
    "print(diag)"
   ]
  },
  {
   "cell_type": "markdown",
   "id": "36f87293-c4ba-4f30-8e2b-8296c70949ea",
   "metadata": {},
   "source": [
    "### Look at the data\n",
    "Now we can look at data at these points in the instrument. One can add and change views without rerunning the simulation. "
   ]
  },
  {
   "cell_type": "code",
   "execution_count": null,
   "id": "2933e5a8-16f5-42f5-8979-b83a3b96b57a",
   "metadata": {},
   "outputs": [],
   "source": [
    "diag.clear_views()\n",
    "diag.add_view(\"x\", bins=50)\n",
    "diag.add_view(\"l\", bins=50, log=True, orders_of_mag=4)\n",
    "diag.add_view(\"l\", \"dx\")\n",
    "\n",
    "diag.plot()"
   ]
  },
  {
   "cell_type": "code",
   "execution_count": null,
   "id": "b2d02f1e-1186-4552-9b2b-7c760cad8045",
   "metadata": {},
   "outputs": [],
   "source": [
    "diag.clear_views()\n",
    "diag.add_view(\"t\", bins=50)\n",
    "diag.add_view(\"l\", bins=50, log=True, orders_of_mag=4)\n",
    "diag.add_view(\"t\", \"l\")\n",
    "\n",
    "diag.plot()"
   ]
  },
  {
   "cell_type": "code",
   "execution_count": null,
   "id": "ff607486-002e-4f18-9915-ed9d72ce4359",
   "metadata": {},
   "outputs": [],
   "source": []
  },
  {
   "cell_type": "code",
   "execution_count": null,
   "id": "81776f88-0466-4d2a-9ba7-270510d69d35",
   "metadata": {},
   "outputs": [],
   "source": []
  }
 ],
 "metadata": {
  "kernelspec": {
   "display_name": "Python 3 (ipykernel)",
   "language": "python",
   "name": "python3"
  },
  "language_info": {
   "codemirror_mode": {
    "name": "ipython",
    "version": 3
   },
   "file_extension": ".py",
   "mimetype": "text/x-python",
   "name": "python",
   "nbconvert_exporter": "python",
   "pygments_lexer": "ipython3",
   "version": "3.12.9"
  }
 },
 "nbformat": 4,
 "nbformat_minor": 5
}

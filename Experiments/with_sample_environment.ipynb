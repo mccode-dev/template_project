{
 "cells": [
  {
   "cell_type": "markdown",
   "id": "05b870c3-fb5e-4c40-9e12-afb6a88fd2f7",
   "metadata": {},
   "source": [
    "### Insert a sample and run small experiment"
   ]
  },
  {
   "cell_type": "code",
   "execution_count": null,
   "id": "a712d471-f350-49bc-b628-76f499b8c780",
   "metadata": {},
   "outputs": [],
   "source": [
    "import mcstasscript as ms\n",
    "import template"
   ]
  },
  {
   "cell_type": "code",
   "execution_count": null,
   "id": "072adf6c-36c3-4914-8b5b-aef6579518e5",
   "metadata": {},
   "outputs": [],
   "source": [
    "instrument = template.make(input_path=\"instrument_code\", output_path=\"data/data\", NeXus=True)"
   ]
  },
  {
   "cell_type": "markdown",
   "id": "00a8bed8-c374-4f53-b3d4-5c7972c5d1e6",
   "metadata": {},
   "source": [
    "## Insert Union sample environment\n",
    "Here we insert a simple Union sample environment, for now it just contains an empty container."
   ]
  },
  {
   "cell_type": "code",
   "execution_count": null,
   "id": "87bb71a9-56fa-4c8d-9356-59dce2c94f59",
   "metadata": {},
   "outputs": [],
   "source": [
    "sample_position = instrument.get_component(\"sample_position\")\n",
    "\n",
    "# Union setup, init master and stop, all other components go before master.\n",
    "init = instrument.add_component(\"init\", \"Union_init\", after=sample_position)\n",
    "master = instrument.add_component(\"master\", \"Union_master\", after=init)\n",
    "stop = instrument.add_component(\"stop\", \"Union_stop\", after=master)\n",
    "\n",
    "Al_inc = instrument.add_component(\"Al_inc\", \"Incoherent_process\", before=master)\n",
    "Al_inc.sigma = 0.0082\n",
    "Al_inc.unit_cell_volume = 66.4\n",
    "\n",
    "Al_pow = instrument.add_component(\"Al_pow\", \"Powder_process\", before=master)\n",
    "Al_pow.reflections = '\"Al.laz\"'\n",
    "\n",
    "Al = instrument.add_component(\"Al\", \"Union_make_material\", before=master)\n",
    "Al.process_string = '\"Al_inc,Al_pow\"'\n",
    "Al.my_absorption = 100*0.231/66.4 # barns [m^2 E-28]*Å^3 [m^3 E-30]=[m E-2], factor 100\n",
    "\n",
    "sample_volume = instrument.add_component(\"sample_volume\", \"Union_cylinder\", before=master)\n",
    "sample_volume.yheight = 0.03\n",
    "sample_volume.radius = 0.0075\n",
    "sample_volume.material_string='\"Vacuum\"' \n",
    "sample_volume.priority = 100\n",
    "sample_volume.set_AT(0, RELATIVE=sample_position)\n",
    "\n",
    "container = instrument.add_component(\"sample_container\", \"Union_cylinder\", before=master)\n",
    "container.set_RELATIVE(sample_volume)\n",
    "container.yheight = 0.03+0.003 # 1.5 mm top and button\n",
    "container.radius = 0.0075 + 0.0015 # 1.5 mm sides of container\n",
    "container.material_string='\"Al\"' \n",
    "container.priority = 99\n",
    "\n",
    "container_lid = instrument.add_component(\"sample_container_lid\", \"Union_cylinder\", before=master)\n",
    "container_lid.set_AT([0, 0.0155, 0], RELATIVE=container)\n",
    "container_lid.yheight = 0.004\n",
    "container_lid.radius = 0.013\n",
    "container_lid.material_string='\"Al\"' \n",
    "container_lid.priority = 98\n",
    "\n",
    "inner_wall = instrument.add_component(\"cryostat_wall\", \"Union_cylinder\", before=master)\n",
    "inner_wall.set_AT([0,0,0], RELATIVE=sample_volume)\n",
    "inner_wall.yheight = 0.12\n",
    "inner_wall.radius = 0.03\n",
    "inner_wall.material_string='\"Al\"' \n",
    "inner_wall.priority = 80\n",
    "\n",
    "inner_wall_vac = instrument.add_component(\"cryostat_wall_vacuum\", \"Union_cylinder\", before=master)\n",
    "inner_wall_vac.set_AT([0,0,0], RELATIVE=sample_volume)\n",
    "inner_wall_vac.yheight = 0.12 - 0.008\n",
    "inner_wall_vac.radius = 0.03 - 0.002\n",
    "inner_wall_vac.material_string='\"Vacuum\"' \n",
    "inner_wall_vac.priority = 81\n",
    "\n",
    "logger_zx = instrument.add_component(\"logger_space_zx\", \"Union_logger_2D_space\", before=master)\n",
    "logger_zx.set_RELATIVE(sample_volume)\n",
    "logger_zx.D_direction_1 = '\"z\"'\n",
    "logger_zx.D1_min = -0.04\n",
    "logger_zx.D1_max = 0.04\n",
    "logger_zx.n1 = 300\n",
    "logger_zx.D_direction_2 = '\"x\"'\n",
    "logger_zx.D2_min = -0.04\n",
    "logger_zx.D2_max = 0.04\n",
    "logger_zx.n2 = 300\n",
    "logger_zx.filename = '\"logger_zx.dat\"'\n",
    "\n",
    "logger_zy = instrument.add_component(\"logger_space_zy\", \"Union_logger_2D_space\", before=master)\n",
    "logger_zy.set_RELATIVE(sample_volume)\n",
    "logger_zy.D_direction_1 = '\"z\"'\n",
    "logger_zy.D1_min = -0.04\n",
    "logger_zy.D1_max = 0.04\n",
    "logger_zy.n1 = 300\n",
    "logger_zy.D_direction_2 = '\"y\"'\n",
    "logger_zy.D2_min = -0.06\n",
    "logger_zy.D2_max = 0.06\n",
    "logger_zy.n2 = 300\n",
    "logger_zy.filename = '\"logger_zy.dat\"'"
   ]
  },
  {
   "cell_type": "markdown",
   "id": "618ed6d6-a1d9-477b-8d90-e9d626407251",
   "metadata": {},
   "source": [
    "## See new diagram\n",
    "Lets see the new diagram and check things are in the right order."
   ]
  },
  {
   "cell_type": "code",
   "execution_count": null,
   "id": "aa9190b7-fcc2-4997-bdc3-a03c9ef69875",
   "metadata": {},
   "outputs": [],
   "source": [
    "instrument.show_diagram()"
   ]
  },
  {
   "cell_type": "markdown",
   "id": "442cdfb7-84b5-4275-8c2c-784e32c62dff",
   "metadata": {},
   "source": [
    "### Run the instrument without sample"
   ]
  },
  {
   "cell_type": "code",
   "execution_count": null,
   "id": "d1a48573-f8da-42cb-8e93-889388a4af84",
   "metadata": {},
   "outputs": [],
   "source": [
    "instrument.settings(ncount=5E7, mpi=4, suppress_output=True)\n",
    "#instrument.set_parameters(l_min=1.5, l_max=1.6, chopper_wavelength_center=1.55)\n",
    "data = instrument.backengine()"
   ]
  },
  {
   "cell_type": "code",
   "execution_count": null,
   "id": "895f4df0-3025-4723-8725-ed6e5771330c",
   "metadata": {},
   "outputs": [],
   "source": [
    "ms.make_sub_plot(data, log=True, orders_of_mag=6)"
   ]
  },
  {
   "cell_type": "markdown",
   "id": "d74264df-37c9-4942-97e6-019fd7d4e486",
   "metadata": {},
   "source": [
    "### Histogram event data\n",
    "The detectors use event mode, so they need to be histogramed before they can be plotted."
   ]
  },
  {
   "cell_type": "code",
   "execution_count": null,
   "id": "285ffd1d-28ac-4dd7-9baa-a92cb7ca53d6",
   "metadata": {},
   "outputs": [],
   "source": [
    "Banana_large = ms.name_search(\"Banana_large\", data)\n",
    "banana_large_hist = Banana_large.make_2d(\"th\", \"y\", n_bins=[160, 20])\n",
    "Banana_small = ms.name_search(\"Banana_small\", data)\n",
    "banana_small_hist = Banana_small.make_2d(\"th\", \"y\", n_bins=[30, 20])\n",
    "\n",
    "ms.make_sub_plot([banana_large_hist, banana_small_hist], log=False)"
   ]
  },
  {
   "cell_type": "markdown",
   "id": "950a1c21-9ec6-4b2b-b353-15506da4d07e",
   "metadata": {},
   "source": [
    "### Histogram as 1d as well"
   ]
  },
  {
   "cell_type": "code",
   "execution_count": null,
   "id": "6d1b7224-ed0e-4bed-86c5-4d616e541516",
   "metadata": {},
   "outputs": [],
   "source": [
    "Banana_large = ms.name_search(\"Banana_large\", data)\n",
    "banana_large_hist = Banana_large.make_1d(\"th\", n_bins=160)\n",
    "Banana_small = ms.name_search(\"Banana_small\", data)\n",
    "banana_small_hist = Banana_small.make_1d(\"th\", n_bins=30)\n",
    "\n",
    "ms.make_sub_plot([banana_large_hist, banana_small_hist], log=False)"
   ]
  },
  {
   "cell_type": "markdown",
   "id": "52c94843-feda-492d-97da-690b14251821",
   "metadata": {},
   "source": [
    "### Now we add a sample\n",
    "We define Cu and set it as the sample volume, then rerun the instrument with the same settings."
   ]
  },
  {
   "cell_type": "code",
   "execution_count": null,
   "id": "4a1425dc-11cd-4932-8387-f382413812b9",
   "metadata": {},
   "outputs": [],
   "source": [
    "Cu_incoherent = instrument.add_component(\"Cu_incoherent\", \"Incoherent_process\", before=\"sample_volume\")\n",
    "Cu_incoherent.set_parameters(sigma=4 * 0.55, unit_cell_volume=47.24)\n",
    "\n",
    "Cu_powder = instrument.add_component(\"Cu_powder\", \"Powder_process\", before=\"sample_volume\")\n",
    "Cu_powder.reflections = '\"Cu.laz\"'\n",
    "\n",
    "Cu = instrument.add_component(\"Cu\", \"Union_make_material\", before=\"sample_volume\")\n",
    "Cu.process_string = '\"Cu_incoherent,Cu_powder\"'\n",
    "Cu.my_absorption = 100 * 4 * 3.78 / 47.24\n",
    "\n",
    "sample_volume.material_string = '\"Cu\"'"
   ]
  },
  {
   "cell_type": "code",
   "execution_count": null,
   "id": "14f5f3c3-f334-494f-acc7-ac58be03b7b3",
   "metadata": {},
   "outputs": [],
   "source": [
    "instrument.settings(ncount=5E7, mpi=4, suppress_output=True)\n",
    "data_sample = instrument.backengine()"
   ]
  },
  {
   "cell_type": "code",
   "execution_count": null,
   "id": "f03d6a0c-b921-45e5-9630-45fe7516ca88",
   "metadata": {},
   "outputs": [],
   "source": [
    "Banana_large_sample = ms.name_search(\"Banana_large\", data_sample)\n",
    "banana_large_hist_sample = Banana_large_sample.make_1d(\"th\", n_bins=160)\n",
    "Banana_small_sample = ms.name_search(\"Banana_small\", data_sample)\n",
    "banana_small_hist_sample = Banana_small_sample.make_1d(\"th\", n_bins=30)\n",
    "\n",
    "ms.make_sub_plot([banana_large_hist_sample, banana_small_hist_sample], log=False)"
   ]
  },
  {
   "cell_type": "markdown",
   "id": "811fe53a-dcc0-418c-a68e-78db29ea8ff7",
   "metadata": {},
   "source": [
    "### Compare with and without sample\n",
    "In order to compare the two runs directly, we can use matplotlib to make a custom plot."
   ]
  },
  {
   "cell_type": "code",
   "execution_count": null,
   "id": "6fb42c99-5e72-4fb7-b635-7ba6d269d572",
   "metadata": {},
   "outputs": [],
   "source": [
    "import matplotlib.pyplot as plt\n",
    "\n",
    "plt.figure()\n",
    "plt.plot(banana_large_hist_sample.xaxis, banana_large_hist_sample.Intensity, label=\"with sample\")\n",
    "plt.plot(banana_large_hist.xaxis, banana_large_hist.Intensity, label=\"without sample\")\n",
    "plt.xlabel(Banana_large.metadata.xlabel)\n",
    "plt.ylabel(Banana_large.metadata.ylabel)\n",
    "plt.legend()\n",
    "plt.show()"
   ]
  },
  {
   "cell_type": "markdown",
   "id": "b91e2f82-d553-428e-a9d8-9efb944358dd",
   "metadata": {},
   "source": [
    "### McStasToX\n",
    "Its also possible to use the newly release McStasToX tool to look at the data with scipp. Needs to be installed first."
   ]
  },
  {
   "cell_type": "code",
   "execution_count": null,
   "id": "dac27ace-434a-4678-ab4d-67432f811c0f",
   "metadata": {},
   "outputs": [],
   "source": [
    "!pip install mcstastox"
   ]
  },
  {
   "cell_type": "markdown",
   "id": "e23ba529-9769-45c7-9ead-53c1ca408fbe",
   "metadata": {},
   "source": [
    "### Load the data as scipp object\n",
    "See scipp documentation for explanation, here we plot and do a coordinate transformation to d-spacing."
   ]
  },
  {
   "cell_type": "code",
   "execution_count": null,
   "id": "41d39b06-1d51-43bc-920b-f471e0883ee0",
   "metadata": {},
   "outputs": [],
   "source": [
    "import mcstastox\n",
    "with mcstastox.Read(data_sample[0].original_data_location) as file:\n",
    "    scipp_object = file.export_scipp_simple(\"Source\", \"sample_position\")"
   ]
  },
  {
   "cell_type": "code",
   "execution_count": null,
   "id": "f0040f57-b67e-498f-b2a9-e863779b3b34",
   "metadata": {},
   "outputs": [],
   "source": [
    "scipp_object"
   ]
  },
  {
   "cell_type": "code",
   "execution_count": null,
   "id": "bcad9383-a9d2-4440-aaee-27772f1f7406",
   "metadata": {},
   "outputs": [],
   "source": [
    "import plopp as pp\n",
    "\n",
    "pp.scatter3d(scipp_object[0::3], pos='position', size=0.02, cbar=True, norm=\"linear\")"
   ]
  },
  {
   "cell_type": "code",
   "execution_count": null,
   "id": "ad6d86d8-25c2-463c-a22b-e8919f185669",
   "metadata": {},
   "outputs": [],
   "source": [
    "from scippneutron.conversion.graph.beamline import beamline\n",
    "from scippneutron.conversion.graph.tof import elastic\n",
    "\n",
    "# McStas provides absolute time, not time of flight\n",
    "scipp_object.coords[\"tof\"] = scipp_object.coords[\"t\"]\n",
    "\n",
    "graph = {**beamline(scatter=True), **elastic(\"tof\")}"
   ]
  },
  {
   "cell_type": "code",
   "execution_count": null,
   "id": "597f8abb-13b3-41b9-bd17-12976e94744f",
   "metadata": {},
   "outputs": [],
   "source": [
    "scipp_object = scipp_object.transform_coords(\"dspacing\", graph=graph)"
   ]
  },
  {
   "cell_type": "code",
   "execution_count": null,
   "id": "2d71c5dc-097c-41a6-810a-b8d323bf3e7a",
   "metadata": {},
   "outputs": [],
   "source": [
    "%matplotlib widget\n",
    "scipp_object.hist(dspacing=500).plot(norm=\"linear\")"
   ]
  }
 ],
 "metadata": {
  "kernelspec": {
   "display_name": "Python 3 (ipykernel)",
   "language": "python",
   "name": "python3"
  },
  "language_info": {
   "codemirror_mode": {
    "name": "ipython",
    "version": 3
   },
   "file_extension": ".py",
   "mimetype": "text/x-python",
   "name": "python",
   "nbconvert_exporter": "python",
   "pygments_lexer": "ipython3",
   "version": "3.12.9"
  }
 },
 "nbformat": 4,
 "nbformat_minor": 5
}

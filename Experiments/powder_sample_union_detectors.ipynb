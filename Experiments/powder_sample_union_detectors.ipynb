{
 "cells": [
  {
   "cell_type": "markdown",
   "id": "05b870c3-fb5e-4c40-9e12-afb6a88fd2f7",
   "metadata": {},
   "source": [
    "## Run with Union detectors\n",
    "The template instrument can make the instrument with He3 tubes simulated with Union and NCrystal for the gas."
   ]
  },
  {
   "cell_type": "code",
   "execution_count": null,
   "id": "a712d471-f350-49bc-b628-76f499b8c780",
   "metadata": {},
   "outputs": [],
   "source": [
    "import mcstasscript as ms\n",
    "import template"
   ]
  },
  {
   "cell_type": "code",
   "execution_count": null,
   "id": "072adf6c-36c3-4914-8b5b-aef6579518e5",
   "metadata": {},
   "outputs": [],
   "source": [
    "instrument = template.make(union_detectors=True,\n",
    "                           input_path=\"instrument_code\", output_path=\"data/data\", NeXus=True)"
   ]
  },
  {
   "cell_type": "markdown",
   "id": "00a8bed8-c374-4f53-b3d4-5c7972c5d1e6",
   "metadata": {},
   "source": [
    "## Insert sample\n",
    "We insert a Union sample to go ith the Union simulation of detectors, we can reuse the same master by placing components before it."
   ]
  },
  {
   "cell_type": "code",
   "execution_count": null,
   "id": "285ffd1d-28ac-4dd7-9baa-a92cb7ca53d6",
   "metadata": {},
   "outputs": [],
   "source": [
    "Sample_inc = instrument.add_component(\"Sample_inc\", \"Incoherent_process\", before=\"master\")\n",
    "Sample_inc.sigma = 3.4176\n",
    "Sample_inc.unit_cell_volume = 1079.1\n",
    "\n",
    "Sample_pow = instrument.add_component(\"Sample_pow\", \"Powder_process\", before=\"master\")\n",
    "Sample_pow.reflections = '\"Na2Ca3Al2F14.laz\"'\n",
    "\n",
    "Sample = instrument.add_component(\"Sample\", \"Union_make_material\", before=\"master\")\n",
    "Sample.process_string = '\"Sample_inc,Sample_pow\"'\n",
    "Sample.my_absorption = 100*2.9464/1079.1\n",
    "\n",
    "sample = instrument.add_component(\"sample\", \"Union_cylinder\", before=\"master\", RELATIVE=\"sample_position\")\n",
    "sample.set_parameters(radius=0.03, yheight=0.03, material_string='\"Sample\"', priority=5)"
   ]
  },
  {
   "cell_type": "markdown",
   "id": "636dc0bc-e20f-478b-9930-96654f938d58",
   "metadata": {},
   "source": [
    "## Run the instrument"
   ]
  },
  {
   "cell_type": "code",
   "execution_count": null,
   "id": "91cf0972-2e27-4670-85e4-1f3fcde9e4c9",
   "metadata": {
    "scrolled": true
   },
   "outputs": [],
   "source": [
    "data = instrument.backengine()"
   ]
  },
  {
   "cell_type": "code",
   "execution_count": null,
   "id": "f285c10f-2b4c-4ff2-ae68-9fb6d9f0d8cb",
   "metadata": {},
   "outputs": [],
   "source": [
    "print(data)"
   ]
  },
  {
   "cell_type": "code",
   "execution_count": null,
   "id": "a60144f5-3f2a-4f76-ae7b-bf1e31cb97ce",
   "metadata": {},
   "outputs": [],
   "source": [
    "ms.make_sub_plot(data, log=True)"
   ]
  },
  {
   "cell_type": "markdown",
   "id": "f8162a2c-5d44-4be0-aa39-48eb6bb46802",
   "metadata": {},
   "source": [
    "## Read with McStasToX\n",
    "There is still more work to be done to easily get data of this type to scipp, but McStasToX can still help."
   ]
  },
  {
   "cell_type": "code",
   "execution_count": null,
   "id": "63d815aa-e75c-432f-a1bc-ccdff00aa1d6",
   "metadata": {},
   "outputs": [],
   "source": [
    "!pip install mcstastox"
   ]
  },
  {
   "cell_type": "code",
   "execution_count": null,
   "id": "e5504c41-7b81-4dfd-8d59-02555a067197",
   "metadata": {},
   "outputs": [],
   "source": [
    "import numpy as np\n",
    "import mcstastox\n",
    "import scipp as sc\n",
    "\n",
    "with mcstastox.Read(data[0].original_data_location) as file:\n",
    "    source_position, source_rotation = file.get_component_placement(\"Source\")\n",
    "    sample_position, sample_rotation = file.get_component_placement(\"sample_position\")\n",
    "    \n",
    "    detector_comps = file.get_components_with_ids()\n",
    "    global_positions_all = None    \n",
    "\n",
    "    for detector in detector_comps:\n",
    "        mon = ms.name_search(detector, data)\n",
    "\n",
    "        y = mon.get_data_column(\"y\")\n",
    "        positions = np.column_stack((np.zeros_like(y), y, np.zeros_like(y)))\n",
    "        global_positions = file.transform(positions, detector)\n",
    "\n",
    "        if global_positions_all is None:\n",
    "            global_positions_all = global_positions\n",
    "            event_weights = mon.get_data_column(\"p\")\n",
    "            event_times = mon.get_data_column(\"t\")\n",
    "        else:\n",
    "            global_positions_all = np.vstack((global_positions_all, global_positions))\n",
    "            event_weights = np.concatenate((event_weights, mon.get_data_column(\"p\")))\n",
    "            event_times = np.concatenate((event_times, mon.get_data_column(\"t\")))\n",
    "\n",
    "    events = sc.DataArray(\n",
    "            data=sc.array(dims=['events'], unit=sc.units.counts, values=event_weights),\n",
    "            coords={\n",
    "                'position' : sc.vectors(dims=['events'], values=global_positions_all, unit='m'),\n",
    "                't': sc.array(dims=['events'], unit='s', values=event_times),\n",
    "                'source_position': sc.vector(source_position, unit='m'),\n",
    "                'sample_position': sc.vector(sample_position, unit='m'),                \n",
    "            })"
   ]
  },
  {
   "cell_type": "markdown",
   "id": "cdf6aec8-c3bf-495c-8fe1-f3b54f58a579",
   "metadata": {},
   "source": [
    "### Now we can analyze the data"
   ]
  },
  {
   "cell_type": "code",
   "execution_count": null,
   "id": "f663fe6c-1e1e-43c2-a295-baa55bb3dfc5",
   "metadata": {},
   "outputs": [],
   "source": [
    "import plopp as pp\n",
    "\n",
    "pp.scatter3d(events[0::3], pos='position', size=0.02, cbar=True, norm=\"linear\")"
   ]
  },
  {
   "cell_type": "code",
   "execution_count": null,
   "id": "cb0d18f7-c273-4898-b78d-8b60d4552877",
   "metadata": {},
   "outputs": [],
   "source": [
    "from scippneutron.conversion.graph.beamline import beamline\n",
    "from scippneutron.conversion.graph.tof import elastic\n",
    "\n",
    "# McStas provides absolute time, not time of flight\n",
    "events.coords[\"tof\"] = events.coords[\"t\"]\n",
    "\n",
    "graph = {**beamline(scatter=True), **elastic(\"tof\")}"
   ]
  },
  {
   "cell_type": "code",
   "execution_count": null,
   "id": "3e91dd55-1af1-4e6e-a8af-4b30662b511e",
   "metadata": {},
   "outputs": [],
   "source": [
    "events = events.transform_coords(\"dspacing\", graph=graph)"
   ]
  },
  {
   "cell_type": "code",
   "execution_count": null,
   "id": "b8529580-249b-4c3b-b9b4-8bbc608d942c",
   "metadata": {},
   "outputs": [],
   "source": [
    "%matplotlib widget\n",
    "events.hist(dspacing=500).plot(norm=\"linear\")"
   ]
  },
  {
   "cell_type": "code",
   "execution_count": null,
   "id": "8d1c7840-ee5d-4565-9cab-e1ef2461ec13",
   "metadata": {},
   "outputs": [],
   "source": []
  }
 ],
 "metadata": {
  "kernelspec": {
   "display_name": "Python 3 (ipykernel)",
   "language": "python",
   "name": "python3"
  },
  "language_info": {
   "codemirror_mode": {
    "name": "ipython",
    "version": 3
   },
   "file_extension": ".py",
   "mimetype": "text/x-python",
   "name": "python",
   "nbconvert_exporter": "python",
   "pygments_lexer": "ipython3",
   "version": "3.12.9"
  }
 },
 "nbformat": 4,
 "nbformat_minor": 5
}

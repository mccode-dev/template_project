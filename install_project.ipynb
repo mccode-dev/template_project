{
 "cells": [
  {
   "cell_type": "markdown",
   "id": "aacbff63-3a8e-4d31-b5cb-02c1a052b5ad",
   "metadata": {},
   "source": [
    "## Install instrument\n",
    "Running the cell below installs this instrument as a python module, making it available from other directories.\n",
    "\n",
    "The name of the instrument will be the directory name and as state in pyproject.toml (these two should match). Update these if you want a different name for the module."
   ]
  },
  {
   "cell_type": "code",
   "execution_count": null,
   "id": "f09f5ad1-2b18-40af-bc74-36adb68bd902",
   "metadata": {},
   "outputs": [],
   "source": [
    "!pip install -e ."
   ]
  },
  {
   "cell_type": "code",
   "execution_count": null,
   "id": "07f4ff65-f263-4041-9bb4-24a03e24046c",
   "metadata": {},
   "outputs": [],
   "source": []
  }
 ],
 "metadata": {
  "kernelspec": {
   "display_name": "Python 3 (ipykernel)",
   "language": "python",
   "name": "python3"
  },
  "language_info": {
   "codemirror_mode": {
    "name": "ipython",
    "version": 3
   },
   "file_extension": ".py",
   "mimetype": "text/x-python",
   "name": "python",
   "nbconvert_exporter": "python",
   "pygments_lexer": "ipython3",
   "version": "3.12.9"
  }
 },
 "nbformat": 4,
 "nbformat_minor": 5
}
